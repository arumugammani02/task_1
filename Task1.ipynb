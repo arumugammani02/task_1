{
  "cells": [
    {
      "cell_type": "markdown",
      "metadata": {
        "id": "view-in-github",
        "colab_type": "text"
      },
      "source": [
        "<a href=\"https://colab.research.google.com/github/arumugammani02/task_1/blob/main/Task1.ipynb\" target=\"_parent\"><img src=\"https://colab.research.google.com/assets/colab-badge.svg\" alt=\"Open In Colab\"/></a>"
      ]
    },
    {
      "cell_type": "markdown",
      "metadata": {
        "id": "deiQdepl0-Gd"
      },
      "source": [
        "### Registration and Login system using Python, file handling"
      ]
    },
    {
      "cell_type": "code",
      "execution_count": 4,
      "metadata": {
        "id": "jXU091EYENeP"
      },
      "outputs": [],
      "source": [
        "first = open(\"login.txt\",\"w\")\n",
        "first.write(\"arumugam123@gmail.com,Arumugam@56\\n\")\n",
        "first.write(\"nila123@gmail.com,Nila@56\\n\")\n",
        "first.close()"
      ]
    },
    {
      "cell_type": "code",
      "execution_count": 5,
      "metadata": {
        "colab": {
          "base_uri": "https://localhost:8080/"
        },
        "id": "6iN1MVNsDuDn",
        "outputId": "509a159b-e21d-41a1-d174-c4fcd32a76ae"
      },
      "outputs": [
        {
          "output_type": "stream",
          "name": "stdout",
          "text": [
            "['arumugam123@gmail.com,Arumugam@56\\n', 'nila123@gmail.com,Nila@56\\n']\n"
          ]
        }
      ],
      "source": [
        "first= open(\"login.txt\",\"r\")\n",
        "lst=first.readlines()\n",
        "print(lst)"
      ]
    },
    {
      "cell_type": "code",
      "execution_count": 8,
      "metadata": {
        "id": "BsEDkvC21FrX"
      },
      "outputs": [],
      "source": [
        "#Registration\n",
        "def registration():\n",
        "  import re\n",
        "  Username = input('please enter your mail id:')\n",
        "  Pattern = (r\"(^[a-zA-Z0-9_.+-]+@[a-zA-Z0-9_]+\\.[a-zA-Z0-9_.]+$)\")\n",
        "  mail_id =re.compile(Pattern)\n",
        "  if re.fullmatch(mail_id,Username):\n",
        "    print(\"username is valid\")\n",
        "    print('Please enter your password:')\n",
        "  else:\n",
        "    print(\"username is invalid,please enter valid username\")\n",
        "    return registration()\n",
        "\n",
        "  password = input()\n",
        "  condition = re.compile(\"^(?=.*[a-z])(?=.*[a-z])(?=.*\\d)(?=.*[!@#$%^&*])[A-Za-z\\d@$!#%*?&]{5,16}#\")\n",
        "  result = re.compile(condition)\n",
        "  if re.fullmatch(result,password):\n",
        "    print(\"password is valid\")\n",
        "    print(\"Register successfully\")\n",
        "  else:\n",
        "    print(\"password is not valid,please enter your valid password\")\n",
        "    Password = input()\n",
        "\n",
        "  data = f\"{Username}.{Password}\\n\"\n",
        "  first=open(\"login.txt\",'a')\n",
        "  first.writelines(data)\n",
        "  first.close()\n"
      ]
    },
    {
      "cell_type": "code",
      "execution_count": 28,
      "metadata": {
        "id": "whTm4uNp-Mmf"
      },
      "outputs": [],
      "source": [
        "#Sign in\n",
        "def Signin(lst):\n",
        "  Email_id = input(\"Please enter your mail id:\")\n",
        "  for i in lst:\n",
        "    y=i.strip().split(\",\")\n",
        "    if Email_id == y[0]:\n",
        "      print(\"Enter your password:\")\n",
        "      password = input()\n",
        "      if password == y[1]:\n",
        "        print('Login successfully')\n",
        "        break\n",
        "      else:\n",
        "        print('Please enter valid password')\n",
        "        print('Your password should contain following conditions:')\n",
        "        print('1. length of password should be between 5 to 16')\n",
        "        print('2. atleast one upper case')\n",
        "        print('3. atleast one lower case')\n",
        "        print('4. atleast one digit and one special character')\n",
        "        password = input()\n",
        "      if password == y[1]:\n",
        "          print(\"Login successfully\")\n",
        "          break\n",
        "      else:\n",
        "        print(\"Please click on forgot password to login\")\n",
        "    else:\n",
        "      print(\"Email id does not exist, please do registration first\")\n",
        "\n",
        "      "
      ]
    },
    {
      "cell_type": "code",
      "execution_count": 29,
      "metadata": {
        "id": "fzNsa4WLGi_I"
      },
      "outputs": [],
      "source": [
        "#Forgot password.\n",
        "def forgot_password():\n",
        "  Email_id = input(\"Please enter your id:\")\n",
        "  New_password = input(\"please reset your password\")\n",
        "\n",
        "\n",
        "  New_data = f\"{Email_id},{New_password}\\n\"\n",
        "  print('Your password has been reset, please login.')\n",
        "  first = open(\"login.txt\",'a')\n",
        "  first.writelines(New_data)\n",
        "  first.close()\n"
      ]
    },
    {
      "cell_type": "code",
      "execution_count": 30,
      "metadata": {
        "id": "CO793_nbGkfG"
      },
      "outputs": [],
      "source": [
        "def login():\n",
        "  option = int(input('Choose your option 1 2 3'))\n",
        "  if option==1:\n",
        "    registration()\n",
        "  elif option==2:\n",
        "    Signin(lst)\n",
        "  elif option==3:\n",
        "    forgot_password()\n",
        "  else:\n",
        "    print('Choose correct option')"
      ]
    },
    {
      "cell_type": "code",
      "execution_count": 32,
      "metadata": {
        "colab": {
          "base_uri": "https://localhost:8080/"
        },
        "id": "15J2ETNSGoRg",
        "outputId": "d4cc236a-6f6d-4163-bab6-2ae6bb548f44"
      },
      "outputs": [
        {
          "output_type": "stream",
          "name": "stdout",
          "text": [
            "Choose your option 1 2 32\n",
            "Please enter your mail id:nila123@gmail.com\n",
            "Email id does not exist, please do registration first\n",
            "Enter your password:\n",
            "Nila@56\n",
            "Login successfully\n"
          ]
        }
      ],
      "source": [
        "login()"
      ]
    }
  ],
  "metadata": {
    "colab": {
      "collapsed_sections": [],
      "provenance": [],
      "authorship_tag": "ABX9TyMbzTpKy/rk+ZMwbkwT8Eb0",
      "include_colab_link": true
    },
    "kernelspec": {
      "display_name": "Python 3",
      "name": "python3"
    },
    "language_info": {
      "name": "python"
    }
  },
  "nbformat": 4,
  "nbformat_minor": 0
}