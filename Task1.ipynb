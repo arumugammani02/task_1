{
  "cells": [
    {
      "cell_type": "markdown",
      "metadata": {
        "id": "view-in-github",
        "colab_type": "text"
      },
      "source": [
        "<a href=\"https://colab.research.google.com/github/arumugammani02/task_1/blob/main/Task1.ipynb\" target=\"_parent\"><img src=\"https://colab.research.google.com/assets/colab-badge.svg\" alt=\"Open In Colab\"/></a>"
      ]
    },
    {
      "cell_type": "markdown",
      "metadata": {
        "id": "deiQdepl0-Gd"
      },
      "source": [
        "### Registration and Login system using Python, file handling"
      ]
    },
    {
      "cell_type": "code",
      "execution_count": 4,
      "metadata": {
        "id": "jXU091EYENeP"
      },
      "outputs": [],
      "source": [
        "first = open(\"login.txt\",\"w\")\n",
        "first.write(\"arumugam123@gmail.com,Arumugam@56\\n\")\n",
        "first.write(\"nila123@gmail.com,Nila@56\\n\")\n",
        "first.close()"
      ]
    },
    {
      "cell_type": "code",
      "execution_count": 5,
      "metadata": {
        "colab": {
          "base_uri": "https://localhost:8080/"
        },
        "id": "6iN1MVNsDuDn",
        "outputId": "509a159b-e21d-41a1-d174-c4fcd32a76ae"
      },
      "outputs": [
        {
          "output_type": "stream",
          "name": "stdout",
          "text": [
            "['arumugam123@gmail.com,Arumugam@56\\n', 'nila123@gmail.com,Nila@56\\n']\n"
          ]
        }
      ],
      "source": [
        "first= open(\"login.txt\",\"r\")\n",
        "lst=first.readlines()\n",
        "print(lst)"
      ]
    },
    {
      "cell_type": "code",
      "execution_count": 8,
      "metadata": {
        "id": "BsEDkvC21FrX"
      },
      "outputs": [],
      "source": [
        "#Registration\n",
        "def registration():\n",
        "  import re\n",
        "  Username = input('please enter your mail id:')\n",
        "  Pattern = (r\"(^[a-zA-Z0-9_.+-]+@[a-zA-Z0-9_]+\\.[a-zA-Z0-9_.]+$)\")\n",
        "  mail_id =re.compile(Pattern)\n",
        "  if re.fullmatch(mail_id,Username):\n",
        "    print(\"username is valid\")\n",
        "    print('Please enter your password:')\n",
        "  else:\n",
        "    print(\"username is invalid,please enter valid username\")\n",
        "    return registration()\n",
        "\n",
        "  password = input()\n",
        "  condition = re.compile(\"^(?=.*[a-z])(?=.*[a-z])(?=.*\\d)(?=.*[!@#$%^&*])[A-Za-z\\d@$!#%*?&]{5,16}#\")\n",
        "  result = re.compile(condition)\n",
        "  if re.fullmatch(result,password):\n",
        "    print(\"password is valid\")\n",
        "    print(\"Register successfully\")\n",
        "  else:\n",
        "    print(\"password is not valid,please enter your valid password\")\n",
        "    Password = input()\n",
        "\n",
        "  data = f\"{Username}.{Password}\\n\"\n",
        "  first=open(\"login.txt\",'a')\n",
        "  first.writelines(data)\n",
        "  first.close()\n"
      ]
    },
    {
      "cell_type": "code",
      "execution_count": 28,
      "metadata": {
        "id": "whTm4uNp-Mmf"
      },
      "outputs": [],
      "source": [
        "#Sign in\n",
        "def Signin(lst):\n",
        "  Email_id = input(\"Please enter your mail id:\")\n",
        "  for i in lst:\n",
        "    y=i.strip().split(\",\")\n",
        "    if Email_id == y[0]:\n",
        "      print(\"Enter your password:\")\n",
        "      password = input()\n",
        "      if password == y[1]:\n",
        "        print('Login successfully')\n",
        "        break\n",
        "      else:\n",
        "        print('Please enter valid password')\n",
        "        print('Your password should contain following conditions:')\n",
        "        print('1. length of password should be between 5 to 16')\n",
        "        print('2. atleast one upper case')\n",
        "        print('3. atleast one lower case')\n",
        "        print('4. atleast one digit and one special character')\n",
        "        password = input()\n",
        "      if password == y[1]:\n",
        "          print(\"Login successfully\")\n",
        "          break\n",
        "      else:\n",
        "        print(\"Please click on forgot password to login\")\n",
        "    else:\n",
        "      print(\"Email id does not exist, please do registration first\")\n",
        "\n",
        "      "
      ]
    },
    {
      "cell_type": "code",
      "execution_count": 29,
      "metadata": {
        "id": "fzNsa4WLGi_I"
      },
      "outputs": [],
      "source": [
        "#Forgot password.\n",
        "def forgot_password():\n",
        "  Email_id = input(\"Please enter your id:\")\n",
        "  New_password = input(\"please reset your password\")\n",
        "\n",
        "\n",
        "  New_data = f\"{Email_id},{New_password}\\n\"\n",
        "  print('Your password has been reset, please login.')\n",
        "  first = open(\"login.txt\",'a')\n",
        "  first.writelines(New_data)\n",
        "  first.close()\n"
      ]
    },
    {
      "cell_type": "code",
      "execution_count": 34,
      "metadata": {
        "id": "CO793_nbGkfG"
      },
      "outputs": [],
      "source": [
        "def login():\n",
        "  option = int(input('Choose your option 1 2 3'))\n",
        "  if option==1:\n",
        "    registration()\n",
        "  elif option==2:\n",
        "    Signin(lst)\n",
        "  elif option==3:\n",
        "    forgot_password()\n",
        "  else:\n",
        "    print('Choose correct option')"
      ]
    },
    {
      "cell_type": "code",
      "execution_count": 33,
      "metadata": {
        "colab": {
          "base_uri": "https://localhost:8080/",
          "height": 320
        },
        "id": "15J2ETNSGoRg",
        "outputId": "cbf3e7d9-5b6c-4ada-cfed-6dea5c02bd75"
      },
      "outputs": [
        {
          "output_type": "error",
          "ename": "KeyboardInterrupt",
          "evalue": "ignored",
          "traceback": [
            "\u001b[0;31m---------------------------------------------------------------------------\u001b[0m",
            "\u001b[0;31mKeyboardInterrupt\u001b[0m                         Traceback (most recent call last)",
            "\u001b[0;32m<ipython-input-33-390877b5064f>\u001b[0m in \u001b[0;36m<module>\u001b[0;34m\u001b[0m\n\u001b[0;32m----> 1\u001b[0;31m \u001b[0mlogin\u001b[0m\u001b[0;34m(\u001b[0m\u001b[0;34m)\u001b[0m\u001b[0;34m\u001b[0m\u001b[0;34m\u001b[0m\u001b[0m\n\u001b[0m",
            "\u001b[0;32m<ipython-input-30-d1a85a9e8a8e>\u001b[0m in \u001b[0;36mlogin\u001b[0;34m()\u001b[0m\n\u001b[1;32m      1\u001b[0m \u001b[0;32mdef\u001b[0m \u001b[0mlogin\u001b[0m\u001b[0;34m(\u001b[0m\u001b[0;34m)\u001b[0m\u001b[0;34m:\u001b[0m\u001b[0;34m\u001b[0m\u001b[0;34m\u001b[0m\u001b[0m\n\u001b[0;32m----> 2\u001b[0;31m   \u001b[0moption\u001b[0m \u001b[0;34m=\u001b[0m \u001b[0mint\u001b[0m\u001b[0;34m(\u001b[0m\u001b[0minput\u001b[0m\u001b[0;34m(\u001b[0m\u001b[0;34m'Choose your option 1 2 3'\u001b[0m\u001b[0;34m)\u001b[0m\u001b[0;34m)\u001b[0m\u001b[0;34m\u001b[0m\u001b[0;34m\u001b[0m\u001b[0m\n\u001b[0m\u001b[1;32m      3\u001b[0m   \u001b[0;32mif\u001b[0m \u001b[0moption\u001b[0m\u001b[0;34m==\u001b[0m\u001b[0;36m1\u001b[0m\u001b[0;34m:\u001b[0m\u001b[0;34m\u001b[0m\u001b[0;34m\u001b[0m\u001b[0m\n\u001b[1;32m      4\u001b[0m     \u001b[0mregistration\u001b[0m\u001b[0;34m(\u001b[0m\u001b[0;34m)\u001b[0m\u001b[0;34m\u001b[0m\u001b[0;34m\u001b[0m\u001b[0m\n\u001b[1;32m      5\u001b[0m   \u001b[0;32melif\u001b[0m \u001b[0moption\u001b[0m\u001b[0;34m==\u001b[0m\u001b[0;36m2\u001b[0m\u001b[0;34m:\u001b[0m\u001b[0;34m\u001b[0m\u001b[0;34m\u001b[0m\u001b[0m\n",
            "\u001b[0;32m/usr/local/lib/python3.7/dist-packages/ipykernel/kernelbase.py\u001b[0m in \u001b[0;36mraw_input\u001b[0;34m(self, prompt)\u001b[0m\n\u001b[1;32m    861\u001b[0m             \u001b[0mself\u001b[0m\u001b[0;34m.\u001b[0m\u001b[0m_parent_ident\u001b[0m\u001b[0;34m,\u001b[0m\u001b[0;34m\u001b[0m\u001b[0;34m\u001b[0m\u001b[0m\n\u001b[1;32m    862\u001b[0m             \u001b[0mself\u001b[0m\u001b[0;34m.\u001b[0m\u001b[0m_parent_header\u001b[0m\u001b[0;34m,\u001b[0m\u001b[0;34m\u001b[0m\u001b[0;34m\u001b[0m\u001b[0m\n\u001b[0;32m--> 863\u001b[0;31m             \u001b[0mpassword\u001b[0m\u001b[0;34m=\u001b[0m\u001b[0;32mFalse\u001b[0m\u001b[0;34m,\u001b[0m\u001b[0;34m\u001b[0m\u001b[0;34m\u001b[0m\u001b[0m\n\u001b[0m\u001b[1;32m    864\u001b[0m         )\n\u001b[1;32m    865\u001b[0m \u001b[0;34m\u001b[0m\u001b[0m\n",
            "\u001b[0;32m/usr/local/lib/python3.7/dist-packages/ipykernel/kernelbase.py\u001b[0m in \u001b[0;36m_input_request\u001b[0;34m(self, prompt, ident, parent, password)\u001b[0m\n\u001b[1;32m    902\u001b[0m             \u001b[0;32mexcept\u001b[0m \u001b[0mKeyboardInterrupt\u001b[0m\u001b[0;34m:\u001b[0m\u001b[0;34m\u001b[0m\u001b[0;34m\u001b[0m\u001b[0m\n\u001b[1;32m    903\u001b[0m                 \u001b[0;31m# re-raise KeyboardInterrupt, to truncate traceback\u001b[0m\u001b[0;34m\u001b[0m\u001b[0;34m\u001b[0m\u001b[0;34m\u001b[0m\u001b[0m\n\u001b[0;32m--> 904\u001b[0;31m                 \u001b[0;32mraise\u001b[0m \u001b[0mKeyboardInterrupt\u001b[0m\u001b[0;34m(\u001b[0m\u001b[0;34m\"Interrupted by user\"\u001b[0m\u001b[0;34m)\u001b[0m \u001b[0;32mfrom\u001b[0m \u001b[0;32mNone\u001b[0m\u001b[0;34m\u001b[0m\u001b[0;34m\u001b[0m\u001b[0m\n\u001b[0m\u001b[1;32m    905\u001b[0m             \u001b[0;32mexcept\u001b[0m \u001b[0mException\u001b[0m \u001b[0;32mas\u001b[0m \u001b[0me\u001b[0m\u001b[0;34m:\u001b[0m\u001b[0;34m\u001b[0m\u001b[0;34m\u001b[0m\u001b[0m\n\u001b[1;32m    906\u001b[0m                 \u001b[0mself\u001b[0m\u001b[0;34m.\u001b[0m\u001b[0mlog\u001b[0m\u001b[0;34m.\u001b[0m\u001b[0mwarning\u001b[0m\u001b[0;34m(\u001b[0m\u001b[0;34m\"Invalid Message:\"\u001b[0m\u001b[0;34m,\u001b[0m \u001b[0mexc_info\u001b[0m\u001b[0;34m=\u001b[0m\u001b[0;32mTrue\u001b[0m\u001b[0;34m)\u001b[0m\u001b[0;34m\u001b[0m\u001b[0;34m\u001b[0m\u001b[0m\n",
            "\u001b[0;31mKeyboardInterrupt\u001b[0m: Interrupted by user"
          ]
        }
      ],
      "source": [
        "login()"
      ]
    }
  ],
  "metadata": {
    "colab": {
      "collapsed_sections": [],
      "provenance": [],
      "authorship_tag": "ABX9TyMbzTpKy/rk+ZMwbkwT8Eb0",
      "include_colab_link": true
    },
    "kernelspec": {
      "display_name": "Python 3",
      "name": "python3"
    },
    "language_info": {
      "name": "python"
    }
  },
  "nbformat": 4,
  "nbformat_minor": 0
}